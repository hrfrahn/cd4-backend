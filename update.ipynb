{
 "cells": [
  {
   "cell_type": "code",
   "execution_count": 43,
   "metadata": {},
   "outputs": [],
   "source": [
    "import requests\n",
    "import pandas as pd\n",
    "import json\n",
    "import geopandas as gpd\n",
    "from sodapy import Socrata"
   ]
  },
  {
   "cell_type": "code",
   "execution_count": 79,
   "metadata": {},
   "outputs": [],
   "source": [
    "socrata_domain = \"data.lacity.org\"\n",
    "id = \"d5tf-ez2w\""
   ]
  },
  {
   "cell_type": "code",
   "execution_count": 77,
   "metadata": {},
   "outputs": [],
   "source": [
    "client = Socrata(socrata_domain, \"jEqnFj2BvLJwBvLPURiPkUNOh \", timeout=100)\n"
   ]
  },
  {
   "cell_type": "code",
   "execution_count": 72,
   "metadata": {},
   "outputs": [
    {
     "data": {
      "text/plain": [
       "1069"
      ]
     },
     "execution_count": 72,
     "metadata": {},
     "output_type": "execute_result"
    }
   ],
   "source": [
    "len(client.datasets())"
   ]
  },
  {
   "cell_type": "code",
   "execution_count": 121,
   "metadata": {},
   "outputs": [
    {
     "name": "stdout",
     "output_type": "stream",
     "text": [
      "2860\n"
     ]
    },
    {
     "data": {
      "text/html": [
       "<div>\n",
       "<style scoped>\n",
       "    .dataframe tbody tr th:only-of-type {\n",
       "        vertical-align: middle;\n",
       "    }\n",
       "\n",
       "    .dataframe tbody tr th {\n",
       "        vertical-align: top;\n",
       "    }\n",
       "\n",
       "    .dataframe thead th {\n",
       "        text-align: right;\n",
       "    }\n",
       "</style>\n",
       "<table border=\"1\" class=\"dataframe\">\n",
       "  <thead>\n",
       "    <tr style=\"text-align: right;\">\n",
       "      <th></th>\n",
       "      <th>dr_no</th>\n",
       "      <th>date_rptd</th>\n",
       "      <th>date_occ</th>\n",
       "      <th>time_occ</th>\n",
       "      <th>area</th>\n",
       "      <th>area_name</th>\n",
       "      <th>rpt_dist_no</th>\n",
       "      <th>crm_cd</th>\n",
       "      <th>crm_cd_desc</th>\n",
       "      <th>mocodes</th>\n",
       "      <th>vict_age</th>\n",
       "      <th>vict_sex</th>\n",
       "      <th>vict_descent</th>\n",
       "      <th>premis_cd</th>\n",
       "      <th>premis_desc</th>\n",
       "      <th>location</th>\n",
       "      <th>cross_street</th>\n",
       "      <th>location_1</th>\n",
       "    </tr>\n",
       "  </thead>\n",
       "  <tbody>\n",
       "    <tr>\n",
       "      <th>0</th>\n",
       "      <td>221004028</td>\n",
       "      <td>2022-01-02T00:00:00.000</td>\n",
       "      <td>2022-01-02T00:00:00.000</td>\n",
       "      <td>0850</td>\n",
       "      <td>10</td>\n",
       "      <td>West Valley</td>\n",
       "      <td>1023</td>\n",
       "      <td>997</td>\n",
       "      <td>TRAFFIC COLLISION</td>\n",
       "      <td>3003 3026 4026 3029 3036 3101</td>\n",
       "      <td>35</td>\n",
       "      <td>M</td>\n",
       "      <td>H</td>\n",
       "      <td>101</td>\n",
       "      <td>STREET</td>\n",
       "      <td>SHERMAN                      WY</td>\n",
       "      <td>WILBUR                       AV</td>\n",
       "      <td>{'latitude': '34.2011', 'longitude': '-118.544...</td>\n",
       "    </tr>\n",
       "    <tr>\n",
       "      <th>1</th>\n",
       "      <td>220104093</td>\n",
       "      <td>2022-01-02T00:00:00.000</td>\n",
       "      <td>2022-01-02T00:00:00.000</td>\n",
       "      <td>1610</td>\n",
       "      <td>01</td>\n",
       "      <td>Central</td>\n",
       "      <td>0111</td>\n",
       "      <td>997</td>\n",
       "      <td>TRAFFIC COLLISION</td>\n",
       "      <td>3401 3701 0605 3008 3026 3029 3101 4024</td>\n",
       "      <td>66</td>\n",
       "      <td>M</td>\n",
       "      <td>H</td>\n",
       "      <td>101</td>\n",
       "      <td>STREET</td>\n",
       "      <td>ALPINE                       ST</td>\n",
       "      <td>BROADWAY</td>\n",
       "      <td>{'latitude': '34.0624', 'longitude': '-118.238...</td>\n",
       "    </tr>\n",
       "    <tr>\n",
       "      <th>2</th>\n",
       "      <td>220604081</td>\n",
       "      <td>2022-01-03T00:00:00.000</td>\n",
       "      <td>2022-01-02T00:00:00.000</td>\n",
       "      <td>2000</td>\n",
       "      <td>06</td>\n",
       "      <td>Hollywood</td>\n",
       "      <td>0657</td>\n",
       "      <td>997</td>\n",
       "      <td>TRAFFIC COLLISION</td>\n",
       "      <td>3003 3029 4027 3035 3037 3101 3401 3701 1218 3024</td>\n",
       "      <td>69</td>\n",
       "      <td>M</td>\n",
       "      <td>W</td>\n",
       "      <td>101</td>\n",
       "      <td>STREET</td>\n",
       "      <td>WESTERN                      AV</td>\n",
       "      <td>ROMAINE                      ST</td>\n",
       "      <td>{'latitude': '34.0885', 'longitude': '-118.309...</td>\n",
       "    </tr>\n",
       "    <tr>\n",
       "      <th>3</th>\n",
       "      <td>220804107</td>\n",
       "      <td>2022-01-04T00:00:00.000</td>\n",
       "      <td>2022-01-03T00:00:00.000</td>\n",
       "      <td>1040</td>\n",
       "      <td>08</td>\n",
       "      <td>West LA</td>\n",
       "      <td>0858</td>\n",
       "      <td>997</td>\n",
       "      <td>TRAFFIC COLLISION</td>\n",
       "      <td>3003 3024 3035 3036 3101 3701 4027 3401</td>\n",
       "      <td>50</td>\n",
       "      <td>M</td>\n",
       "      <td>O</td>\n",
       "      <td>101</td>\n",
       "      <td>STREET</td>\n",
       "      <td>PICO                         BL</td>\n",
       "      <td>ROBERTSON                    BL</td>\n",
       "      <td>{'latitude': '34.0549', 'longitude': '-118.384...</td>\n",
       "    </tr>\n",
       "    <tr>\n",
       "      <th>4</th>\n",
       "      <td>220304077</td>\n",
       "      <td>2022-01-03T00:00:00.000</td>\n",
       "      <td>2022-01-03T00:00:00.000</td>\n",
       "      <td>0150</td>\n",
       "      <td>03</td>\n",
       "      <td>Southwest</td>\n",
       "      <td>0394</td>\n",
       "      <td>997</td>\n",
       "      <td>TRAFFIC COLLISION</td>\n",
       "      <td>3003 3026 4025 3029 3038</td>\n",
       "      <td>59</td>\n",
       "      <td>F</td>\n",
       "      <td>B</td>\n",
       "      <td>101</td>\n",
       "      <td>STREET</td>\n",
       "      <td>VERNON                       AV</td>\n",
       "      <td>5TH                          AV</td>\n",
       "      <td>{'latitude': '34.0037', 'longitude': '-118.322...</td>\n",
       "    </tr>\n",
       "  </tbody>\n",
       "</table>\n",
       "</div>"
      ],
      "text/plain": [
       "       dr_no                date_rptd                 date_occ time_occ area  \\\n",
       "0  221004028  2022-01-02T00:00:00.000  2022-01-02T00:00:00.000     0850   10   \n",
       "1  220104093  2022-01-02T00:00:00.000  2022-01-02T00:00:00.000     1610   01   \n",
       "2  220604081  2022-01-03T00:00:00.000  2022-01-02T00:00:00.000     2000   06   \n",
       "3  220804107  2022-01-04T00:00:00.000  2022-01-03T00:00:00.000     1040   08   \n",
       "4  220304077  2022-01-03T00:00:00.000  2022-01-03T00:00:00.000     0150   03   \n",
       "\n",
       "     area_name rpt_dist_no crm_cd        crm_cd_desc  \\\n",
       "0  West Valley        1023    997  TRAFFIC COLLISION   \n",
       "1      Central        0111    997  TRAFFIC COLLISION   \n",
       "2    Hollywood        0657    997  TRAFFIC COLLISION   \n",
       "3      West LA        0858    997  TRAFFIC COLLISION   \n",
       "4    Southwest        0394    997  TRAFFIC COLLISION   \n",
       "\n",
       "                                             mocodes vict_age vict_sex  \\\n",
       "0                      3003 3026 4026 3029 3036 3101       35        M   \n",
       "1            3401 3701 0605 3008 3026 3029 3101 4024       66        M   \n",
       "2  3003 3029 4027 3035 3037 3101 3401 3701 1218 3024       69        M   \n",
       "3            3003 3024 3035 3036 3101 3701 4027 3401       50        M   \n",
       "4                           3003 3026 4025 3029 3038       59        F   \n",
       "\n",
       "  vict_descent premis_cd premis_desc                         location  \\\n",
       "0            H       101      STREET  SHERMAN                      WY   \n",
       "1            H       101      STREET  ALPINE                       ST   \n",
       "2            W       101      STREET  WESTERN                      AV   \n",
       "3            O       101      STREET  PICO                         BL   \n",
       "4            B       101      STREET  VERNON                       AV   \n",
       "\n",
       "                      cross_street  \\\n",
       "0  WILBUR                       AV   \n",
       "1                         BROADWAY   \n",
       "2  ROMAINE                      ST   \n",
       "3  ROBERTSON                    BL   \n",
       "4  5TH                          AV   \n",
       "\n",
       "                                          location_1  \n",
       "0  {'latitude': '34.2011', 'longitude': '-118.544...  \n",
       "1  {'latitude': '34.0624', 'longitude': '-118.238...  \n",
       "2  {'latitude': '34.0885', 'longitude': '-118.309...  \n",
       "3  {'latitude': '34.0549', 'longitude': '-118.384...  \n",
       "4  {'latitude': '34.0037', 'longitude': '-118.322...  "
      ]
     },
     "execution_count": 121,
     "metadata": {},
     "output_type": "execute_result"
    }
   ],
   "source": [
    "\n",
    "query = \"\"\"\n",
    "SELECT\n",
    "  *\n",
    "WHERE\n",
    "  ((`date_occ` > \"2022-01-01T00:00:00\" :: floating_timestamp)\n",
    "     AND contains(`mocodes`, \"3003\"))\n",
    "    OR ((`date_occ` > \"2022-01-01T00:00:00\" :: floating_timestamp)\n",
    "          AND contains(`mocodes`, \"3008\"))\n",
    "LIMIT \n",
    "    10000\n",
    "\"\"\"\n",
    "\n",
    "query2 = \"\"\"\n",
    "SELECT\n",
    "  *\n",
    "WHERE\n",
    "  ((`date_occ`\n",
    "      BETWEEN \"2022-01-01T00:00:00\" :: floating_timestamp\n",
    "      AND \"2022-12-31T23:21:35\" :: floating_timestamp)\n",
    "     AND contains(`mocodes`, \"3003\"))\n",
    "    OR ((`date_occ`\n",
    "           BETWEEN \"2022-01-01T00:00:00\" :: floating_timestamp\n",
    "           AND \"2022-12-31T23:21:52\" :: floating_timestamp)\n",
    "          AND contains(`mocodes`, \"3008\"))\n",
    "LIMIT \n",
    "    10000\n",
    "\"\"\"\n",
    "\n",
    "results = client.get(id, query=query)\n",
    "results_df = pd.DataFrame.from_records(results)\n",
    "\n",
    "print(len(results_df))\n",
    "results_df.head()\n",
    "\n"
   ]
  },
  {
   "cell_type": "code",
   "execution_count": 122,
   "metadata": {},
   "outputs": [
    {
     "data": {
      "text/plain": [
       "<AxesSubplot:>"
      ]
     },
     "execution_count": 122,
     "metadata": {},
     "output_type": "execute_result"
    },
    {
     "data": {
      "image/png": "[encoded data removed]",
      "text/plain": [
       "<Figure size 432x288 with 1 Axes>"
      ]
     },
     "metadata": {
      "needs_background": "light"
     },
     "output_type": "display_data"
    }
   ],
   "source": [
    "gdf = gpd.GeoDataFrame(results_df, geometry = gpd.points_from_xy(results_df.location_1.str['longitude'], results_df.location_1.str['latitude']))\n",
    "\n",
    "gdf.plot()"
   ]
  },
  {
   "cell_type": "code",
   "execution_count": 123,
   "metadata": {},
   "outputs": [
    {
     "name": "stderr",
     "output_type": "stream",
     "text": [
      "ERROR:fiona._env:PROJ: internal_proj_create_from_database: /Users/hfrahn/opt/anaconda3/share/proj/proj.db lacks DATABASE.LAYOUT.VERSION.MAJOR / DATABASE.LAYOUT.VERSION.MINOR metadata. It comes from another PROJ installation.\n",
      "ERROR:fiona._env:PROJ: internal_proj_identify: /Users/hfrahn/opt/anaconda3/share/proj/proj.db lacks DATABASE.LAYOUT.VERSION.MAJOR / DATABASE.LAYOUT.VERSION.MINOR metadata. It comes from another PROJ installation.\n"
     ]
    },
    {
     "data": {
      "text/plain": [
       "121"
      ]
     },
     "execution_count": 123,
     "metadata": {},
     "output_type": "execute_result"
    }
   ],
   "source": [
    "cd4 = gpd.read_file(\"CD4.geojson\")\n",
    "gdf = gdf.set_crs(epsg=4326)\n",
    "\n",
    "cd4_collisions = gpd.sjoin(gdf, cd4, predicate='within')\n",
    "len(cd4_collisions)"
   ]
  },
  {
   "cell_type": "code",
   "execution_count": 124,
   "metadata": {},
   "outputs": [
    {
     "data": {
      "text/plain": [
       "<AxesSubplot:>"
      ]
     },
     "execution_count": 124,
     "metadata": {},
     "output_type": "execute_result"
    },
    {
     "data": {
      "image/png": "[encoded data removed]",
      "text/plain": [
       "<Figure size 1080x1080 with 1 Axes>"
      ]
     },
     "metadata": {
      "needs_background": "light"
     },
     "output_type": "display_data"
    }
   ],
   "source": [
    "import matplotlib.pyplot as plt\n",
    "fig, ax = plt.subplots(figsize=(15, 15))\n",
    "cd4.plot(ax=ax)\n",
    "cd4_collisions.plot(ax=ax, column = \"date_occ\", cmap = \"autumn\")"
   ]
  },
  {
   "cell_type": "code",
   "execution_count": 147,
   "metadata": {},
   "outputs": [
    {
     "data": {
      "text/plain": [
       "Index(['dr_no', 'date_rptd', 'date_occ', 'time_occ', 'area', 'area_name',\n",
       "       'rpt_dist_no', 'crm_cd', 'crm_cd_desc', 'mocodes', 'vict_age',\n",
       "       'vict_sex', 'vict_descent', 'premis_cd', 'premis_desc', 'location',\n",
       "       'cross_street', 'location_1', 'geometry', 'index_right', 'dist_name',\n",
       "       'district', 'name', 'objectid', 'year'],\n",
       "      dtype='object')"
      ]
     },
     "execution_count": 147,
     "metadata": {},
     "output_type": "execute_result"
    }
   ],
   "source": [
    "cd4_collisions.columns"
   ]
  },
  {
   "cell_type": "code",
   "execution_count": 148,
   "metadata": {},
   "outputs": [],
   "source": [
    "cd4_collisions['year'] = cd4_collisions.date_occ.str.slice(start = 0, stop = 4)\n",
    "cd4_collisions.year\n",
    "cd4_collisions = cd4_collisions.rename(columns={\"date_occ\": \"Date Occurred\", \"time_occ\": \"Time Occurred\", \"vict_age\": \"Victim Age\", \"vict_sex\": \"Victim Sex\", \"mocodes\": \"MO Codes\"})"
   ]
  },
  {
   "cell_type": "code",
   "execution_count": 149,
   "metadata": {},
   "outputs": [
    {
     "data": {
      "text/plain": [
       "2"
      ]
     },
     "execution_count": 149,
     "metadata": {},
     "output_type": "execute_result"
    }
   ],
   "source": [
    "split = list(cd4_collisions.groupby(\"year\"))\n",
    "len(split)"
   ]
  },
  {
   "cell_type": "code",
   "execution_count": 153,
   "metadata": {},
   "outputs": [],
   "source": [
    "for df in split: \n",
    "    name = df[0]+\"collisions.geojson\"\n",
    "    df[1].to_file(name, driver = \"GeoJSON\")"
   ]
  }
 ],
 "metadata": {
  "kernelspec": {
   "display_name": "base",
   "language": "python",
   "name": "python3"
  },
  "language_info": {
   "codemirror_mode": {
    "name": "ipython",
    "version": 3
   },
   "file_extension": ".py",
   "mimetype": "text/x-python",
   "name": "python",
   "nbconvert_exporter": "python",
   "pygments_lexer": "ipython3",
   "version": "3.9.7"
  },
  "orig_nbformat": 4
 },
 "nbformat": 4,
 "nbformat_minor": 2
}
